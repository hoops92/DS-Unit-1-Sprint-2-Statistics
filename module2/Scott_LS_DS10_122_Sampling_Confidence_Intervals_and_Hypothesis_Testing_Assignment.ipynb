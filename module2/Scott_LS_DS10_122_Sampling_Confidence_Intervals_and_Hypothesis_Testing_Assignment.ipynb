{
  "nbformat": 4,
  "nbformat_minor": 0,
  "metadata": {
    "colab": {
      "name": "Scott_LS_DS10_122_Sampling_Confidence_Intervals_and_Hypothesis_Testing_Assignment.ipynb",
      "provenance": [],
      "collapsed_sections": [],
      "include_colab_link": true
    },
    "kernelspec": {
      "name": "python3",
      "display_name": "Python 3"
    }
  },
  "cells": [
    {
      "cell_type": "markdown",
      "metadata": {
        "id": "view-in-github",
        "colab_type": "text"
      },
      "source": [
        "<a href=\"https://colab.research.google.com/github/hoops92/DS-Unit-1-Sprint-2-Statistics/blob/master/module2/Scott_LS_DS10_122_Sampling_Confidence_Intervals_and_Hypothesis_Testing_Assignment.ipynb\" target=\"_parent\"><img src=\"https://colab.research.google.com/assets/colab-badge.svg\" alt=\"Open In Colab\"/></a>"
      ]
    },
    {
      "cell_type": "markdown",
      "metadata": {
        "id": "11OzdxWTM7UR",
        "colab_type": "text"
      },
      "source": [
        "## Assignment - Build a confidence interval\n",
        "\n",
        "A confidence interval refers to a neighborhood around some point estimate, the size of which is determined by the desired p-value. For instance, we might say that 52% of Americans prefer tacos to burritos, with a 95% confidence interval of +/- 5%.\n",
        "\n",
        "52% (0.52) is the point estimate, and +/- 5% (the interval $[0.47, 0.57]$) is the confidence interval. \"95% confidence\" means a p-value $\\leq 1 - 0.95 = 0.05$.\n",
        "\n",
        "In this case, the confidence interval includes $0.5$ - which is the natural null hypothesis (that half of Americans prefer tacos and half burritos, thus there is no clear favorite). So in this case, we could use the confidence interval to report that we've failed to reject the null hypothesis.\n",
        "\n",
        "But providing the full analysis with a confidence interval, including a graphical representation of it, can be a helpful and powerful way to tell your story. Done well, it is also more intuitive to a layperson than simply saying \"fail to reject the null hypothesis\" - it shows that in fact the data does *not* give a single clear result (the point estimate) but a whole range of possibilities.\n",
        "\n",
        "How is a confidence interval built, and how should it be interpreted? It does *not* mean that 95% of the data lies in that interval - instead, the frequentist interpretation is \"if we were to repeat this experiment 100 times, we would expect the average result to lie in this interval ~95 times.\"\n",
        "\n",
        "For a 95% confidence interval and a normal(-ish) distribution, you can simply remember that +/-2 standard deviations contains 95% of the probability mass, and so the 95% confidence interval based on a given sample is centered at the mean (point estimate) and has a range of +/- 2 (or technically 1.96) standard deviations.\n",
        "\n",
        "Different distributions/assumptions (90% confidence, 99% confidence) will require different math, but the overall process and interpretation (with a frequentist approach) will be the same.\n",
        "\n",
        "Your assignment - using the data from the prior module ([congressional voting records](https://archive.ics.uci.edu/ml/datasets/Congressional+Voting+Records)):\n",
        "\n",
        "\n",
        "### Confidence Intervals:\n",
        "1. Generate and numerically represent a confidence interval\n",
        "2. Graphically (with a plot) represent the confidence interval\n",
        "3. Interpret the confidence interval - what does it tell you about the data and its distribution?\n",
        "\n",
        "### Chi-squared tests:\n",
        "4. Take a dataset that we have used in the past in class that has **categorical** variables. Pick two of those categorical variables and run a chi-squared tests on that data\n",
        "  - By hand using Numpy\n",
        "  - In a single line using Scipy\n"
      ]
    },
    {
      "cell_type": "code",
      "metadata": {
        "id": "Ckcr4A4FM7cs",
        "colab_type": "code",
        "colab": {
          "base_uri": "https://localhost:8080/",
          "height": 204
        },
        "outputId": "79b9e927-aee6-462f-a471-35a7e1a4f3a1"
      },
      "source": [
        "!wget https://archive.ics.uci.edu/ml/machine-learning-databases/voting-records/house-votes-84.data"
      ],
      "execution_count": 1,
      "outputs": [
        {
          "output_type": "stream",
          "text": [
            "--2019-11-06 00:06:24--  https://archive.ics.uci.edu/ml/machine-learning-databases/voting-records/house-votes-84.data\n",
            "Resolving archive.ics.uci.edu (archive.ics.uci.edu)... 128.195.10.252\n",
            "Connecting to archive.ics.uci.edu (archive.ics.uci.edu)|128.195.10.252|:443... connected.\n",
            "HTTP request sent, awaiting response... 200 OK\n",
            "Length: 18171 (18K) [application/x-httpd-php]\n",
            "Saving to: ‘house-votes-84.data.2’\n",
            "\n",
            "\rhouse-votes-84.data   0%[                    ]       0  --.-KB/s               \rhouse-votes-84.data 100%[===================>]  17.75K  --.-KB/s    in 0.04s   \n",
            "\n",
            "2019-11-06 00:06:25 (462 KB/s) - ‘house-votes-84.data.2’ saved [18171/18171]\n",
            "\n"
          ],
          "name": "stdout"
        }
      ]
    },
    {
      "cell_type": "code",
      "metadata": {
        "id": "1lOD1BE928GW",
        "colab_type": "code",
        "colab": {}
      },
      "source": [
        "from scipy import stats\n",
        "\n",
        "def confidence_interval(data, confidence=0.95):\n",
        "  \"\"\"\n",
        "  Calculates a confidence interval around a sample mean for given data. Using t-distribution and two-tailed test, default 95% confidence. \n",
        "\n",
        "  Arguments:\n",
        "    data - iterable (list or numpy array) of sample observations\n",
        "    confidence - level of confidence for the interval\n",
        "\n",
        "    Returns:\n",
        "      tuple of (mean, lower bound, upper bound)\n",
        "  \"\"\"\n",
        "  data = np.array(data)\n",
        "  mean = np.mean(data)\n",
        "  n = len(data)\n",
        "  stderr = stats.sem(data)\n",
        "  margin = stderr * stats.t.ppf((1 + confidence) / 2.0, n - 1)\n",
        "  return (mean, mean - margin, mean + margin)"
      ],
      "execution_count": 0,
      "outputs": []
    },
    {
      "cell_type": "code",
      "metadata": {
        "id": "GLZRQsXjAnIo",
        "colab_type": "code",
        "colab": {}
      },
      "source": [
        "import pandas as pd \n",
        "import numpy as np\n",
        "from scipy.stats import ttest_ind\n",
        "\n",
        "df = pd.read_csv('https://archive.ics.uci.edu/ml/machine-learning-databases/voting-records/house-votes-84.data', header=None, names=['party',\n",
        "'handicapped infants', 'water project cost sharing',\n",
        "'adoption of the budget resolution', 'physician fee freeze', 'el salvador aid', 'religious groups in schools',\n",
        "'anti satellite test ban', 'aid to nicaraguan contras', 'mx missile',\n",
        "'immigration', 'synfuels corporation cutback',\n",
        "'education spending', 'superfund right to sue', 'crime', 'duty free exports',\n",
        "'export administration act south africa'])\n",
        "\n",
        "df = df.replace({'?':np.NaN, 'n':0, 'y':1})\n",
        "rep = df[df.party =='republican'] #dataframe filtering for republicans\n",
        "dem = df[df.party =='democrat'] #dataframe filtering for democrats"
      ],
      "execution_count": 0,
      "outputs": []
    },
    {
      "cell_type": "code",
      "metadata": {
        "id": "jIqSiA_pAo_q",
        "colab_type": "code",
        "colab": {
          "base_uri": "https://localhost:8080/",
          "height": 350
        },
        "outputId": "b9e8ecf1-deff-465b-c54a-6f7c4b25b3f1"
      },
      "source": [
        "import seaborn as sns\n",
        "import matplotlib.pyplot as plt\n",
        "CI = confidence_interval(dem['water project cost sharing'].dropna())\n",
        "plt.axvline(x=CI[1], color='red')\n",
        "plt.axvline(x=CI[2], color='red')\n",
        "plt.axvline(x=CI[0], color='k')\n",
        "sns.kdeplot(dem['water project cost sharing'])"
      ],
      "execution_count": 4,
      "outputs": [
        {
          "output_type": "stream",
          "text": [
            "/usr/local/lib/python3.6/dist-packages/statsmodels/nonparametric/kde.py:447: RuntimeWarning: invalid value encountered in greater\n",
            "  X = X[np.logical_and(X > clip[0], X < clip[1])] # won't work for two columns.\n",
            "/usr/local/lib/python3.6/dist-packages/statsmodels/nonparametric/kde.py:447: RuntimeWarning: invalid value encountered in less\n",
            "  X = X[np.logical_and(X > clip[0], X < clip[1])] # won't work for two columns.\n"
          ],
          "name": "stderr"
        },
        {
          "output_type": "execute_result",
          "data": {
            "text/plain": [
              "<matplotlib.axes._subplots.AxesSubplot at 0x7f8fb597e3c8>"
            ]
          },
          "metadata": {
            "tags": []
          },
          "execution_count": 4
        },
        {
          "output_type": "display_data",
          "data": {
            "image/png": "[encoded data removed]",
            "text/plain": [
              "<Figure size 432x288 with 1 Axes>"
            ]
          },
          "metadata": {
            "tags": []
          }
        }
      ]
    },
    {
      "cell_type": "code",
      "metadata": {
        "id": "262xNo9vAxkJ",
        "colab_type": "code",
        "colab": {
          "base_uri": "https://localhost:8080/",
          "height": 255
        },
        "outputId": "4356dac7-9041-427d-824c-60dcb16b4948"
      },
      "source": [
        "!wget https://resources.lendingclub.com/LoanStats_2018Q4.csv.zip\n",
        "!unzip LoanStats_2018Q4.csv.zip\n",
        "df = pd.read_csv('LoanStats_2018Q4.csv', skiprows=1, skipfooter=2, engine='python')"
      ],
      "execution_count": 12,
      "outputs": [
        {
          "output_type": "stream",
          "text": [
            "--2019-11-06 00:14:09--  https://resources.lendingclub.com/LoanStats_2018Q4.csv.zip\n",
            "Resolving resources.lendingclub.com (resources.lendingclub.com)... 64.48.1.20\n",
            "Connecting to resources.lendingclub.com (resources.lendingclub.com)|64.48.1.20|:443... connected.\n",
            "HTTP request sent, awaiting response... 200 OK\n",
            "Length: unspecified [application/zip]\n",
            "Saving to: ‘LoanStats_2018Q4.csv.zip.2’\n",
            "\n",
            "LoanStats_2018Q4.cs     [    <=>             ]  21.67M   810KB/s    in 32s     \n",
            "\n",
            "2019-11-06 00:14:41 (697 KB/s) - ‘LoanStats_2018Q4.csv.zip.2’ saved [22727580]\n",
            "\n",
            "Archive:  LoanStats_2018Q4.csv.zip\n",
            "replace LoanStats_2018Q4.csv? [y]es, [n]o, [A]ll, [N]one, [r]ename: y\n",
            "  inflating: LoanStats_2018Q4.csv    \n"
          ],
          "name": "stdout"
        }
      ]
    },
    {
      "cell_type": "code",
      "metadata": {
        "id": "vSXukyxR_gHe",
        "colab_type": "code",
        "colab": {}
      },
      "source": [
        "contingency_table = pd.crosstab(df['home_ownership'], df['loan_status'], margins=True)"
      ],
      "execution_count": 0,
      "outputs": []
    },
    {
      "cell_type": "code",
      "metadata": {
        "id": "svmDaMUUDJFW",
        "colab_type": "code",
        "colab": {
          "base_uri": "https://localhost:8080/",
          "height": 68
        },
        "outputId": "ba2acf72-14b8-4262-ea34-3f99641536f4"
      },
      "source": [
        "row_sums = contingency_table.iloc[0:4, 7].values\n",
        "col_sums = contingency_table.iloc[4, 0:7].values\n",
        "total = contingency_table.loc['All','All']\n",
        "print(row_sums)\n",
        "print(col_sums)\n",
        "\n",
        "expected = []\n",
        "for i in range(len(row_sums)):\n",
        "  expected_row = []\n",
        "  for column in col_sums:\n",
        "    expected_val = column*row_sums[i]/total\n",
        "    expected_row.append(expected_val)\n",
        "  expected.append(expected_row)\n",
        "expected = np.array(expected)\n",
        "print(expected.shape)"
      ],
      "execution_count": 14,
      "outputs": [
        {
          "output_type": "stream",
          "text": [
            "[  333 63490 13993 50596]\n",
            "[  2863 104752    217  16600    755    668   2557]\n",
            "(4, 7)\n"
          ],
          "name": "stdout"
        }
      ]
    },
    {
      "cell_type": "code",
      "metadata": {
        "id": "IF3eCQdONx3d",
        "colab_type": "code",
        "colab": {
          "base_uri": "https://localhost:8080/",
          "height": 170
        },
        "outputId": "8c284472-b9db-46a9-b275-cf3c61f3ed34"
      },
      "source": [
        "# chi_squared calculation by hand\n",
        "observed = pd.crosstab(df['loan_status'], df['home_ownership']).values\n",
        "chi_squared = ((observed - expected)**2/(expected)).sum() \n",
        "dof = (len(row_sums)-1)*(len(col_sums)-1)\n",
        "\n",
        "print(chi_squared)\n",
        "print(dof)\n",
        "print(expected)"
      ],
      "execution_count": 18,
      "outputs": [
        {
          "output_type": "stream",
          "text": [
            "417.46650301547686\n",
            "18\n",
            "[[7.42437623e+00 1.41553648e+03 3.11979869e+02 1.12805928e+03]\n",
            " [2.71644519e+02 5.17919235e+04 1.14147801e+04 4.12736519e+04]\n",
            " [5.62727782e-01 1.07290051e+02 2.36463960e+01 8.55008255e+01]\n",
            " [4.30473787e+01 8.20744167e+03 1.80889481e+03 6.54061614e+03]\n",
            " [1.95787777e+00 3.73290269e+02 8.22720229e+01 2.97479831e+02]\n",
            " [1.73226801e+00 3.30275364e+02 7.27916706e+01 2.63200698e+02]\n",
            " [6.63085226e+00 1.26424267e+03 2.78635182e+02 1.00749129e+03]]\n"
          ],
          "name": "stdout"
        }
      ]
    },
    {
      "cell_type": "code",
      "metadata": {
        "id": "mE4G5DoVDeK2",
        "colab_type": "code",
        "colab": {
          "base_uri": "https://localhost:8080/",
          "height": 204
        },
        "outputId": "66af0f4c-977a-499f-b01f-053e7fe15921"
      },
      "source": [
        "# chi_squared calculation using Scipy\n",
        "chi_squared, p_value, dof, expected = stats.chi2_contingency(observed)\n",
        "\n",
        "print(f\"Chi-Squared: {chi_squared}\")\n",
        "print(f\"P-value: {p_value}\")\n",
        "print(f\"Degrees of Freedom: {dof}\") \n",
        "print(\"Expected: \\n\", np.array(expected))"
      ],
      "execution_count": 17,
      "outputs": [
        {
          "output_type": "stream",
          "text": [
            "Chi-Squared: 417.46650301547686\n",
            "P-value: 2.0720500653639018e-77\n",
            "Degrees of Freedom: 18\n",
            "Expected: \n",
            " [[7.42437623e+00 1.41553648e+03 3.11979869e+02 1.12805928e+03]\n",
            " [2.71644519e+02 5.17919235e+04 1.14147801e+04 4.12736519e+04]\n",
            " [5.62727782e-01 1.07290051e+02 2.36463960e+01 8.55008255e+01]\n",
            " [4.30473787e+01 8.20744167e+03 1.80889481e+03 6.54061614e+03]\n",
            " [1.95787777e+00 3.73290269e+02 8.22720229e+01 2.97479831e+02]\n",
            " [1.73226801e+00 3.30275364e+02 7.27916706e+01 2.63200698e+02]\n",
            " [6.63085226e+00 1.26424267e+03 2.78635182e+02 1.00749129e+03]]\n"
          ],
          "name": "stdout"
        }
      ]
    },
    {
      "cell_type": "markdown",
      "metadata": {
        "id": "4ohsJhQUmEuS",
        "colab_type": "text"
      },
      "source": [
        "## Stretch goals:\n",
        "\n",
        "1. Write a summary of your findings, mixing prose and math/code/results. *Note* - yes, this is by definition a political topic. It is challenging but important to keep your writing voice *neutral* and stick to the facts of the data. Data science often involves considering controversial issues, so it's important to be sensitive about them (especially if you want to publish).\n",
        "2. Apply the techniques you learned today to your project data or other data of your choice, and write/discuss your findings here.\n",
        "3. Refactor your code so it is elegant, readable, and can be easily run for all issues."
      ]
    },
    {
      "cell_type": "markdown",
      "metadata": {
        "id": "nyJ3ySr7R2k9",
        "colab_type": "text"
      },
      "source": [
        "## Resources\n",
        "\n",
        "- [Interactive visualize the Chi-Squared test](https://homepage.divms.uiowa.edu/~mbognar/applets/chisq.html)\n",
        "- [Calculation of Chi-Squared test statistic](https://en.wikipedia.org/wiki/Pearson%27s_chi-squared_test)\n",
        "- [Visualization of a confidence interval generated by R code](https://commons.wikimedia.org/wiki/File:Confidence-interval.svg)\n",
        "- [Expected value of a squared standard normal](https://math.stackexchange.com/questions/264061/expected-value-calculation-for-squared-normal-distribution) (it's 1 - which is why the expected value of a Chi-Squared with $n$ degrees of freedom is $n$, as it's the sum of $n$ squared standard normals)"
      ]
    }
  ]
}